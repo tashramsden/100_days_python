{
  "nbformat": 4,
  "nbformat_minor": 0,
  "metadata": {
    "colab": {
      "name": "Day-71_Data_Exploration_Pandas_College_Major.ipynb",
      "provenance": [],
      "authorship_tag": "ABX9TyP6WlNr+Sd+XeoEixUBegzF",
      "include_colab_link": true
    },
    "kernelspec": {
      "name": "python3",
      "display_name": "Python 3"
    },
    "language_info": {
      "name": "python"
    }
  },
  "cells": [
    {
      "cell_type": "markdown",
      "metadata": {
        "id": "view-in-github",
        "colab_type": "text"
      },
      "source": [
        "<a href=\"https://colab.research.google.com/github/tashramsden/100_days_python/blob/main/day-71_data_science_pandas/Day_71_Data_Exploration_Pandas_College_Major.ipynb\" target=\"_parent\"><img src=\"https://colab.research.google.com/assets/colab-badge.svg\" alt=\"Open In Colab\"/></a>"
      ]
    },
    {
      "cell_type": "markdown",
      "metadata": {
        "id": "ZglvlT3b07hf"
      },
      "source": [
        "**Data Exploration with Pandas**"
      ]
    },
    {
      "cell_type": "markdown",
      "metadata": {
        "id": "c8HQ-XI-kX49"
      },
      "source": [
        "**Summary**\n",
        "\n",
        "*  Use .head(), .tail(), .shape and .columns to explore your DataFrame and \n",
        "find out the number of rows and columns as well as the column names.\n",
        "\n",
        "*  Look for NaN (not a number) values with .isna() and consider using .dropna() to clean up your DataFrame.\n",
        "\n",
        "*  You can access entire columns of a DataFrame using the square bracket notation: df['column name'] or df[['column name 1', 'column name 2', 'column name 3']]\n",
        "\n",
        "*  You can access individual cells in a DataFrame by chaining square brackets df['column name'][index] or using df['column name'].loc[index]\n",
        "\n",
        "*  The largest and smallest values, as well as their positions, can be found with methods like .max(), .min(), .idxmax() and .idxmin()\n",
        "\n",
        "*  You can sort the DataFrame with .sort_values() and add new columns with .insert()\n",
        "\n",
        "*  To create an Excel Style Pivot Table by grouping entries that belong to a particular category use the .groupby() method"
      ]
    },
    {
      "cell_type": "markdown",
      "metadata": {
        "id": "hr-JJFvSVYrE"
      },
      "source": [
        "Bring up documentation in notebook - highlight function and press shift + tab"
      ]
    },
    {
      "cell_type": "code",
      "metadata": {
        "id": "_f_lD9wqx9gs"
      },
      "source": [
        "import pandas as pd"
      ],
      "execution_count": null,
      "outputs": []
    },
    {
      "cell_type": "markdown",
      "metadata": {
        "id": "h_CYUSZdZw-f"
      },
      "source": [
        "Get Pandas to print numbers with commas eg 1,012.45 rather than 1012.45"
      ]
    },
    {
      "cell_type": "code",
      "metadata": {
        "id": "4gLLO912Zr4R"
      },
      "source": [
        "pd.options.display.float_format = '{:,.2f}'.format"
      ],
      "execution_count": null,
      "outputs": []
    },
    {
      "cell_type": "markdown",
      "metadata": {
        "id": "UkdR20UpZ79W"
      },
      "source": [
        "Read csv"
      ]
    },
    {
      "cell_type": "code",
      "metadata": {
        "id": "GZ55PKBGyB9o"
      },
      "source": [
        "df = pd.read_csv(\"salaries_by_college_major.csv\")"
      ],
      "execution_count": null,
      "outputs": []
    },
    {
      "cell_type": "code",
      "metadata": {
        "colab": {
          "base_uri": "https://localhost:8080/",
          "height": 237
        },
        "id": "ea3njwEozHCL",
        "outputId": "3859de06-9862-46d0-fb2d-a0fed72b4b0e"
      },
      "source": [
        "df.head()"
      ],
      "execution_count": null,
      "outputs": [
        {
          "output_type": "execute_result",
          "data": {
            "text/html": [
              "<div>\n",
              "<style scoped>\n",
              "    .dataframe tbody tr th:only-of-type {\n",
              "        vertical-align: middle;\n",
              "    }\n",
              "\n",
              "    .dataframe tbody tr th {\n",
              "        vertical-align: top;\n",
              "    }\n",
              "\n",
              "    .dataframe thead th {\n",
              "        text-align: right;\n",
              "    }\n",
              "</style>\n",
              "<table border=\"1\" class=\"dataframe\">\n",
              "  <thead>\n",
              "    <tr style=\"text-align: right;\">\n",
              "      <th></th>\n",
              "      <th>Undergraduate Major</th>\n",
              "      <th>Starting Median Salary</th>\n",
              "      <th>Mid-Career Median Salary</th>\n",
              "      <th>Mid-Career 10th Percentile Salary</th>\n",
              "      <th>Mid-Career 90th Percentile Salary</th>\n",
              "      <th>Group</th>\n",
              "    </tr>\n",
              "  </thead>\n",
              "  <tbody>\n",
              "    <tr>\n",
              "      <th>0</th>\n",
              "      <td>Accounting</td>\n",
              "      <td>46,000.00</td>\n",
              "      <td>77,100.00</td>\n",
              "      <td>42,200.00</td>\n",
              "      <td>152,000.00</td>\n",
              "      <td>Business</td>\n",
              "    </tr>\n",
              "    <tr>\n",
              "      <th>1</th>\n",
              "      <td>Aerospace Engineering</td>\n",
              "      <td>57,700.00</td>\n",
              "      <td>101,000.00</td>\n",
              "      <td>64,300.00</td>\n",
              "      <td>161,000.00</td>\n",
              "      <td>STEM</td>\n",
              "    </tr>\n",
              "    <tr>\n",
              "      <th>2</th>\n",
              "      <td>Agriculture</td>\n",
              "      <td>42,600.00</td>\n",
              "      <td>71,900.00</td>\n",
              "      <td>36,300.00</td>\n",
              "      <td>150,000.00</td>\n",
              "      <td>Business</td>\n",
              "    </tr>\n",
              "    <tr>\n",
              "      <th>3</th>\n",
              "      <td>Anthropology</td>\n",
              "      <td>36,800.00</td>\n",
              "      <td>61,500.00</td>\n",
              "      <td>33,800.00</td>\n",
              "      <td>138,000.00</td>\n",
              "      <td>HASS</td>\n",
              "    </tr>\n",
              "    <tr>\n",
              "      <th>4</th>\n",
              "      <td>Architecture</td>\n",
              "      <td>41,600.00</td>\n",
              "      <td>76,800.00</td>\n",
              "      <td>50,600.00</td>\n",
              "      <td>136,000.00</td>\n",
              "      <td>Business</td>\n",
              "    </tr>\n",
              "  </tbody>\n",
              "</table>\n",
              "</div>"
            ],
            "text/plain": [
              "     Undergraduate Major  ...     Group\n",
              "0             Accounting  ...  Business\n",
              "1  Aerospace Engineering  ...      STEM\n",
              "2            Agriculture  ...  Business\n",
              "3           Anthropology  ...      HASS\n",
              "4           Architecture  ...  Business\n",
              "\n",
              "[5 rows x 6 columns]"
            ]
          },
          "metadata": {
            "tags": []
          },
          "execution_count": 63
        }
      ]
    },
    {
      "cell_type": "code",
      "metadata": {
        "colab": {
          "base_uri": "https://localhost:8080/"
        },
        "id": "JfL-OCLezaiT",
        "outputId": "1652af84-8313-4001-9b09-31e139c4c07e"
      },
      "source": [
        "df.shape  # returns the no of rows and columns in the dataframe"
      ],
      "execution_count": null,
      "outputs": [
        {
          "output_type": "execute_result",
          "data": {
            "text/plain": [
              "(51, 6)"
            ]
          },
          "metadata": {
            "tags": []
          },
          "execution_count": 64
        }
      ]
    },
    {
      "cell_type": "code",
      "metadata": {
        "colab": {
          "base_uri": "https://localhost:8080/"
        },
        "id": "aetBPMRyzbbr",
        "outputId": "10fce931-e934-423c-cadb-618f323c9763"
      },
      "source": [
        "df.columns  # returns the names of the columns"
      ],
      "execution_count": null,
      "outputs": [
        {
          "output_type": "execute_result",
          "data": {
            "text/plain": [
              "Index(['Undergraduate Major', 'Starting Median Salary',\n",
              "       'Mid-Career Median Salary', 'Mid-Career 10th Percentile Salary',\n",
              "       'Mid-Career 90th Percentile Salary', 'Group'],\n",
              "      dtype='object')"
            ]
          },
          "metadata": {
            "tags": []
          },
          "execution_count": 65
        }
      ]
    },
    {
      "cell_type": "code",
      "metadata": {
        "id": "pJ1nHW-vzwz9"
      },
      "source": [
        "df.isna()  # checks for NaN (not a number)"
      ],
      "execution_count": null,
      "outputs": []
    },
    {
      "cell_type": "code",
      "metadata": {
        "colab": {
          "base_uri": "https://localhost:8080/",
          "height": 237
        },
        "id": "78hQxotnz6vh",
        "outputId": "ea9fbd10-692e-4e80-ac86-7b7ef6abdbcb"
      },
      "source": [
        "df.tail()  # last row has info about source of data - need to remove!"
      ],
      "execution_count": null,
      "outputs": [
        {
          "output_type": "execute_result",
          "data": {
            "text/html": [
              "<div>\n",
              "<style scoped>\n",
              "    .dataframe tbody tr th:only-of-type {\n",
              "        vertical-align: middle;\n",
              "    }\n",
              "\n",
              "    .dataframe tbody tr th {\n",
              "        vertical-align: top;\n",
              "    }\n",
              "\n",
              "    .dataframe thead th {\n",
              "        text-align: right;\n",
              "    }\n",
              "</style>\n",
              "<table border=\"1\" class=\"dataframe\">\n",
              "  <thead>\n",
              "    <tr style=\"text-align: right;\">\n",
              "      <th></th>\n",
              "      <th>Undergraduate Major</th>\n",
              "      <th>Starting Median Salary</th>\n",
              "      <th>Mid-Career Median Salary</th>\n",
              "      <th>Mid-Career 10th Percentile Salary</th>\n",
              "      <th>Mid-Career 90th Percentile Salary</th>\n",
              "      <th>Group</th>\n",
              "    </tr>\n",
              "  </thead>\n",
              "  <tbody>\n",
              "    <tr>\n",
              "      <th>46</th>\n",
              "      <td>Psychology</td>\n",
              "      <td>35,900.00</td>\n",
              "      <td>60,400.00</td>\n",
              "      <td>31,600.00</td>\n",
              "      <td>127,000.00</td>\n",
              "      <td>HASS</td>\n",
              "    </tr>\n",
              "    <tr>\n",
              "      <th>47</th>\n",
              "      <td>Religion</td>\n",
              "      <td>34,100.00</td>\n",
              "      <td>52,000.00</td>\n",
              "      <td>29,700.00</td>\n",
              "      <td>96,400.00</td>\n",
              "      <td>HASS</td>\n",
              "    </tr>\n",
              "    <tr>\n",
              "      <th>48</th>\n",
              "      <td>Sociology</td>\n",
              "      <td>36,500.00</td>\n",
              "      <td>58,200.00</td>\n",
              "      <td>30,700.00</td>\n",
              "      <td>118,000.00</td>\n",
              "      <td>HASS</td>\n",
              "    </tr>\n",
              "    <tr>\n",
              "      <th>49</th>\n",
              "      <td>Spanish</td>\n",
              "      <td>34,000.00</td>\n",
              "      <td>53,100.00</td>\n",
              "      <td>31,000.00</td>\n",
              "      <td>96,400.00</td>\n",
              "      <td>HASS</td>\n",
              "    </tr>\n",
              "    <tr>\n",
              "      <th>50</th>\n",
              "      <td>Source: PayScale Inc.</td>\n",
              "      <td>nan</td>\n",
              "      <td>nan</td>\n",
              "      <td>nan</td>\n",
              "      <td>nan</td>\n",
              "      <td>NaN</td>\n",
              "    </tr>\n",
              "  </tbody>\n",
              "</table>\n",
              "</div>"
            ],
            "text/plain": [
              "      Undergraduate Major  ...  Group\n",
              "46             Psychology  ...   HASS\n",
              "47               Religion  ...   HASS\n",
              "48              Sociology  ...   HASS\n",
              "49                Spanish  ...   HASS\n",
              "50  Source: PayScale Inc.  ...    NaN\n",
              "\n",
              "[5 rows x 6 columns]"
            ]
          },
          "metadata": {
            "tags": []
          },
          "execution_count": 67
        }
      ]
    },
    {
      "cell_type": "code",
      "metadata": {
        "id": "ANPWXRp10PJS"
      },
      "source": [
        "clean_df = df.dropna()  # removes the row w NaN values (could also manually remove row at index 50)"
      ],
      "execution_count": null,
      "outputs": []
    },
    {
      "cell_type": "code",
      "metadata": {
        "colab": {
          "base_uri": "https://localhost:8080/",
          "height": 219
        },
        "id": "8-fQKdUu0Vr7",
        "outputId": "591d095e-a0ad-4360-dd7b-17e75cc00ccf"
      },
      "source": [
        "clean_df.tail()  # NaN row has been removed"
      ],
      "execution_count": null,
      "outputs": [
        {
          "output_type": "execute_result",
          "data": {
            "text/html": [
              "<div>\n",
              "<style scoped>\n",
              "    .dataframe tbody tr th:only-of-type {\n",
              "        vertical-align: middle;\n",
              "    }\n",
              "\n",
              "    .dataframe tbody tr th {\n",
              "        vertical-align: top;\n",
              "    }\n",
              "\n",
              "    .dataframe thead th {\n",
              "        text-align: right;\n",
              "    }\n",
              "</style>\n",
              "<table border=\"1\" class=\"dataframe\">\n",
              "  <thead>\n",
              "    <tr style=\"text-align: right;\">\n",
              "      <th></th>\n",
              "      <th>Undergraduate Major</th>\n",
              "      <th>Starting Median Salary</th>\n",
              "      <th>Mid-Career Median Salary</th>\n",
              "      <th>Mid-Career 10th Percentile Salary</th>\n",
              "      <th>Mid-Career 90th Percentile Salary</th>\n",
              "      <th>Group</th>\n",
              "    </tr>\n",
              "  </thead>\n",
              "  <tbody>\n",
              "    <tr>\n",
              "      <th>45</th>\n",
              "      <td>Political Science</td>\n",
              "      <td>40,800.00</td>\n",
              "      <td>78,200.00</td>\n",
              "      <td>41,200.00</td>\n",
              "      <td>168,000.00</td>\n",
              "      <td>HASS</td>\n",
              "    </tr>\n",
              "    <tr>\n",
              "      <th>46</th>\n",
              "      <td>Psychology</td>\n",
              "      <td>35,900.00</td>\n",
              "      <td>60,400.00</td>\n",
              "      <td>31,600.00</td>\n",
              "      <td>127,000.00</td>\n",
              "      <td>HASS</td>\n",
              "    </tr>\n",
              "    <tr>\n",
              "      <th>47</th>\n",
              "      <td>Religion</td>\n",
              "      <td>34,100.00</td>\n",
              "      <td>52,000.00</td>\n",
              "      <td>29,700.00</td>\n",
              "      <td>96,400.00</td>\n",
              "      <td>HASS</td>\n",
              "    </tr>\n",
              "    <tr>\n",
              "      <th>48</th>\n",
              "      <td>Sociology</td>\n",
              "      <td>36,500.00</td>\n",
              "      <td>58,200.00</td>\n",
              "      <td>30,700.00</td>\n",
              "      <td>118,000.00</td>\n",
              "      <td>HASS</td>\n",
              "    </tr>\n",
              "    <tr>\n",
              "      <th>49</th>\n",
              "      <td>Spanish</td>\n",
              "      <td>34,000.00</td>\n",
              "      <td>53,100.00</td>\n",
              "      <td>31,000.00</td>\n",
              "      <td>96,400.00</td>\n",
              "      <td>HASS</td>\n",
              "    </tr>\n",
              "  </tbody>\n",
              "</table>\n",
              "</div>"
            ],
            "text/plain": [
              "   Undergraduate Major  ...  Group\n",
              "45   Political Science  ...   HASS\n",
              "46          Psychology  ...   HASS\n",
              "47            Religion  ...   HASS\n",
              "48           Sociology  ...   HASS\n",
              "49             Spanish  ...   HASS\n",
              "\n",
              "[5 rows x 6 columns]"
            ]
          },
          "metadata": {
            "tags": []
          },
          "execution_count": 69
        }
      ]
    },
    {
      "cell_type": "markdown",
      "metadata": {
        "id": "XNWJg3820yRS"
      },
      "source": [
        "**Find college major with the highest starting salary**"
      ]
    },
    {
      "cell_type": "code",
      "metadata": {
        "colab": {
          "base_uri": "https://localhost:8080/"
        },
        "id": "QTli1OsP0YEF",
        "outputId": "ddd682b3-a308-4b8a-d882-2cce12bea8c0"
      },
      "source": [
        "clean_df['Starting Median Salary']  # access this column"
      ],
      "execution_count": null,
      "outputs": [
        {
          "output_type": "execute_result",
          "data": {
            "text/plain": [
              "0    46,000.00\n",
              "1    57,700.00\n",
              "2    42,600.00\n",
              "3    36,800.00\n",
              "4    41,600.00\n",
              "5    35,800.00\n",
              "6    38,800.00\n",
              "7    43,000.00\n",
              "8    63,200.00\n",
              "9    42,600.00\n",
              "10   53,900.00\n",
              "11   38,100.00\n",
              "12   61,400.00\n",
              "13   55,900.00\n",
              "14   53,700.00\n",
              "15   35,000.00\n",
              "16   35,900.00\n",
              "17   50,100.00\n",
              "18   34,900.00\n",
              "19   60,900.00\n",
              "20   38,000.00\n",
              "21   37,900.00\n",
              "22   47,900.00\n",
              "23   39,100.00\n",
              "24   41,200.00\n",
              "25   43,500.00\n",
              "26   35,700.00\n",
              "27   38,800.00\n",
              "28   39,200.00\n",
              "29   37,800.00\n",
              "30   57,700.00\n",
              "31   49,100.00\n",
              "32   36,100.00\n",
              "33   40,900.00\n",
              "34   35,600.00\n",
              "35   49,200.00\n",
              "36   40,800.00\n",
              "37   45,400.00\n",
              "38   57,900.00\n",
              "39   35,900.00\n",
              "40   54,200.00\n",
              "41   39,900.00\n",
              "42   39,900.00\n",
              "43   74,300.00\n",
              "44   50,300.00\n",
              "45   40,800.00\n",
              "46   35,900.00\n",
              "47   34,100.00\n",
              "48   36,500.00\n",
              "49   34,000.00\n",
              "Name: Starting Median Salary, dtype: float64"
            ]
          },
          "metadata": {
            "tags": []
          },
          "execution_count": 70
        }
      ]
    },
    {
      "cell_type": "code",
      "metadata": {
        "colab": {
          "base_uri": "https://localhost:8080/"
        },
        "id": "ek1afSoi0qur",
        "outputId": "72e3c869-f9e4-44a9-9fc4-35eb94fe0cde"
      },
      "source": [
        "clean_df['Starting Median Salary'].max()  # find highest starting salary =$74300, but who does this belong to?"
      ],
      "execution_count": null,
      "outputs": [
        {
          "output_type": "execute_result",
          "data": {
            "text/plain": [
              "74300.0"
            ]
          },
          "metadata": {
            "tags": []
          },
          "execution_count": 71
        }
      ]
    },
    {
      "cell_type": "code",
      "metadata": {
        "colab": {
          "base_uri": "https://localhost:8080/"
        },
        "id": "gcZ11saa1aCD",
        "outputId": "a9840774-9b03-4218-ae7f-978e646c819c"
      },
      "source": [
        "clean_df['Starting Median Salary'].idxmax()  # returns index for the row with the largest value"
      ],
      "execution_count": null,
      "outputs": [
        {
          "output_type": "execute_result",
          "data": {
            "text/plain": [
              "43"
            ]
          },
          "metadata": {
            "tags": []
          },
          "execution_count": 72
        }
      ]
    },
    {
      "cell_type": "code",
      "metadata": {
        "colab": {
          "base_uri": "https://localhost:8080/",
          "height": 35
        },
        "id": "LWs3xmXR1o5y",
        "outputId": "585c012b-deca-46d3-af8b-9dbaa8a99dd7"
      },
      "source": [
        "clean_df['Undergraduate Major'].loc[43]  # returns the major of the student in that row"
      ],
      "execution_count": null,
      "outputs": [
        {
          "output_type": "execute_result",
          "data": {
            "application/vnd.google.colaboratory.intrinsic+json": {
              "type": "string"
            },
            "text/plain": [
              "'Physician Assistant'"
            ]
          },
          "metadata": {
            "tags": []
          },
          "execution_count": 73
        }
      ]
    },
    {
      "cell_type": "code",
      "metadata": {
        "colab": {
          "base_uri": "https://localhost:8080/",
          "height": 35
        },
        "id": "pDsgrbED19rB",
        "outputId": "b7c93b3a-e445-431c-ddae-93bb4797a019"
      },
      "source": [
        "clean_df['Undergraduate Major'][43]  # this does exaclty the same as above"
      ],
      "execution_count": null,
      "outputs": [
        {
          "output_type": "execute_result",
          "data": {
            "application/vnd.google.colaboratory.intrinsic+json": {
              "type": "string"
            },
            "text/plain": [
              "'Physician Assistant'"
            ]
          },
          "metadata": {
            "tags": []
          },
          "execution_count": 74
        }
      ]
    },
    {
      "cell_type": "code",
      "metadata": {
        "colab": {
          "base_uri": "https://localhost:8080/"
        },
        "id": "KbVvXhf92CFb",
        "outputId": "f07d1660-3671-4699-b5ad-f7980dc3646a"
      },
      "source": [
        "clean_df.loc[43]  # this retrieves the whole row of that student"
      ],
      "execution_count": null,
      "outputs": [
        {
          "output_type": "execute_result",
          "data": {
            "text/plain": [
              "Undergraduate Major                  Physician Assistant\n",
              "Starting Median Salary                         74,300.00\n",
              "Mid-Career Median Salary                       91,700.00\n",
              "Mid-Career 10th Percentile Salary              66,400.00\n",
              "Mid-Career 90th Percentile Salary             124,000.00\n",
              "Group                                               STEM\n",
              "Name: 43, dtype: object"
            ]
          },
          "metadata": {
            "tags": []
          },
          "execution_count": 75
        }
      ]
    },
    {
      "cell_type": "markdown",
      "metadata": {
        "id": "lMVmX9622Qh0"
      },
      "source": [
        "**Find college major with highest mid-career salary - how much do graduates with this major earn?**"
      ]
    },
    {
      "cell_type": "code",
      "metadata": {
        "colab": {
          "base_uri": "https://localhost:8080/"
        },
        "id": "mEB305rL2YFq",
        "outputId": "f556bb73-59aa-4841-afb0-1149f67d8334"
      },
      "source": [
        "clean_df['Mid-Career Median Salary'].max()"
      ],
      "execution_count": null,
      "outputs": [
        {
          "output_type": "execute_result",
          "data": {
            "text/plain": [
              "107000.0"
            ]
          },
          "metadata": {
            "tags": []
          },
          "execution_count": 76
        }
      ]
    },
    {
      "cell_type": "code",
      "metadata": {
        "colab": {
          "base_uri": "https://localhost:8080/"
        },
        "id": "m0OGVsgS2vuX",
        "outputId": "90de7020-187f-470f-fcc0-941a53f54bac"
      },
      "source": [
        "clean_df['Mid-Career Median Salary'].idxmax()"
      ],
      "execution_count": null,
      "outputs": [
        {
          "output_type": "execute_result",
          "data": {
            "text/plain": [
              "8"
            ]
          },
          "metadata": {
            "tags": []
          },
          "execution_count": 77
        }
      ]
    },
    {
      "cell_type": "code",
      "metadata": {
        "colab": {
          "base_uri": "https://localhost:8080/"
        },
        "id": "SDlVK7No23rp",
        "outputId": "7f7bede0-5136-4cec-b8f3-b87b543d135e"
      },
      "source": [
        "clean_df.loc[8]"
      ],
      "execution_count": null,
      "outputs": [
        {
          "output_type": "execute_result",
          "data": {
            "text/plain": [
              "Undergraduate Major                  Chemical Engineering\n",
              "Starting Median Salary                          63,200.00\n",
              "Mid-Career Median Salary                       107,000.00\n",
              "Mid-Career 10th Percentile Salary               71,900.00\n",
              "Mid-Career 90th Percentile Salary              194,000.00\n",
              "Group                                                STEM\n",
              "Name: 8, dtype: object"
            ]
          },
          "metadata": {
            "tags": []
          },
          "execution_count": 78
        }
      ]
    },
    {
      "cell_type": "markdown",
      "metadata": {
        "id": "aEsClf9j3Cgf"
      },
      "source": [
        "**Find college major with lowest starting salary**"
      ]
    },
    {
      "cell_type": "code",
      "metadata": {
        "colab": {
          "base_uri": "https://localhost:8080/"
        },
        "id": "PBCNFeR43HaN",
        "outputId": "992dfd88-c5f7-4097-a852-d3d6e1f015aa"
      },
      "source": [
        "clean_df['Starting Median Salary'].min()"
      ],
      "execution_count": null,
      "outputs": [
        {
          "output_type": "execute_result",
          "data": {
            "text/plain": [
              "34000.0"
            ]
          },
          "metadata": {
            "tags": []
          },
          "execution_count": 79
        }
      ]
    },
    {
      "cell_type": "code",
      "metadata": {
        "colab": {
          "base_uri": "https://localhost:8080/"
        },
        "id": "NvziBgFp3L7J",
        "outputId": "b60131bf-a9bd-4738-9022-999e114712aa"
      },
      "source": [
        "clean_df['Starting Median Salary'].idxmin()"
      ],
      "execution_count": null,
      "outputs": [
        {
          "output_type": "execute_result",
          "data": {
            "text/plain": [
              "49"
            ]
          },
          "metadata": {
            "tags": []
          },
          "execution_count": 80
        }
      ]
    },
    {
      "cell_type": "code",
      "metadata": {
        "colab": {
          "base_uri": "https://localhost:8080/"
        },
        "id": "_tJf2rjk3MEG",
        "outputId": "9553b162-5f83-489d-cd0c-8baef8ff5d7a"
      },
      "source": [
        "clean_df.loc[49]"
      ],
      "execution_count": null,
      "outputs": [
        {
          "output_type": "execute_result",
          "data": {
            "text/plain": [
              "Undergraduate Major                   Spanish\n",
              "Starting Median Salary              34,000.00\n",
              "Mid-Career Median Salary            53,100.00\n",
              "Mid-Career 10th Percentile Salary   31,000.00\n",
              "Mid-Career 90th Percentile Salary   96,400.00\n",
              "Group                                    HASS\n",
              "Name: 49, dtype: object"
            ]
          },
          "metadata": {
            "tags": []
          },
          "execution_count": 81
        }
      ]
    },
    {
      "cell_type": "markdown",
      "metadata": {
        "id": "gaG9w35A3Wb6"
      },
      "source": [
        "**Find college major with lowest mid-career salary**"
      ]
    },
    {
      "cell_type": "code",
      "metadata": {
        "colab": {
          "base_uri": "https://localhost:8080/"
        },
        "id": "svs7Ky1u3bMq",
        "outputId": "826cd086-845a-4a9b-fe08-dc86f824a4a6"
      },
      "source": [
        "clean_df['Mid-Career Median Salary'].min()"
      ],
      "execution_count": null,
      "outputs": [
        {
          "output_type": "execute_result",
          "data": {
            "text/plain": [
              "52000.0"
            ]
          },
          "metadata": {
            "tags": []
          },
          "execution_count": 82
        }
      ]
    },
    {
      "cell_type": "code",
      "metadata": {
        "colab": {
          "base_uri": "https://localhost:8080/"
        },
        "id": "w02RgTaH3bQr",
        "outputId": "340003c1-d23b-46eb-e306-d7e1e2f31856"
      },
      "source": [
        "clean_df['Mid-Career Median Salary'].idxmin()"
      ],
      "execution_count": null,
      "outputs": [
        {
          "output_type": "execute_result",
          "data": {
            "text/plain": [
              "18"
            ]
          },
          "metadata": {
            "tags": []
          },
          "execution_count": 83
        }
      ]
    },
    {
      "cell_type": "code",
      "metadata": {
        "colab": {
          "base_uri": "https://localhost:8080/"
        },
        "id": "pcsjBH0I3bUM",
        "outputId": "46f8273c-01b8-4893-81be-fded002ca0be"
      },
      "source": [
        "clean_df.loc[18]"
      ],
      "execution_count": null,
      "outputs": [
        {
          "output_type": "execute_result",
          "data": {
            "text/plain": [
              "Undergraduate Major                  Education\n",
              "Starting Median Salary               34,900.00\n",
              "Mid-Career Median Salary             52,000.00\n",
              "Mid-Career 10th Percentile Salary    29,300.00\n",
              "Mid-Career 90th Percentile Salary   102,000.00\n",
              "Group                                     HASS\n",
              "Name: 18, dtype: object"
            ]
          },
          "metadata": {
            "tags": []
          },
          "execution_count": 84
        }
      ]
    },
    {
      "cell_type": "code",
      "metadata": {
        "colab": {
          "base_uri": "https://localhost:8080/"
        },
        "id": "TTII9uhUTYD2",
        "outputId": "35470570-a8d8-4cc2-aaa1-454d482bcff7"
      },
      "source": [
        "clean_df.loc[clean_df['Mid-Career Median Salary'].idxmin()]  # this does same as above 2 lines"
      ],
      "execution_count": null,
      "outputs": [
        {
          "output_type": "execute_result",
          "data": {
            "text/plain": [
              "Undergraduate Major                  Education\n",
              "Starting Median Salary               34,900.00\n",
              "Mid-Career Median Salary             52,000.00\n",
              "Mid-Career 10th Percentile Salary    29,300.00\n",
              "Mid-Career 90th Percentile Salary   102,000.00\n",
              "Group                                     HASS\n",
              "Name: 18, dtype: object"
            ]
          },
          "metadata": {
            "tags": []
          },
          "execution_count": 85
        }
      ]
    },
    {
      "cell_type": "markdown",
      "metadata": {
        "id": "Hhpe0W0yTowT"
      },
      "source": [
        "**Lowest risk majors**\n",
        "\n",
        "Degrees where there is a small difference between the lowest and highest salaries. If the difference between the 10th and 90th percentiles is small, can be more certaina about salary after graduation.\n",
        "\n"
      ]
    },
    {
      "cell_type": "code",
      "metadata": {
        "id": "LPtEvrLtTshA"
      },
      "source": [
        "clean_df['Mid-Career 90th Percentile Salary'] - clean_df['Mid-Career 10th Percentile Salary']  # same as below"
      ],
      "execution_count": null,
      "outputs": []
    },
    {
      "cell_type": "code",
      "metadata": {
        "id": "G43g1N0DUEIm"
      },
      "source": [
        "clean_df['Mid-Career 90th Percentile Salary'].subtract(clean_df['Mid-Career 10th Percentile Salary'])"
      ],
      "execution_count": null,
      "outputs": []
    },
    {
      "cell_type": "markdown",
      "metadata": {
        "id": "_akH9nC4UNzt"
      },
      "source": [
        "The output above is another Pandas dataframe column. Add this to the existing dataframe using .insert()"
      ]
    },
    {
      "cell_type": "code",
      "metadata": {
        "id": "Tn-AhUPYULRJ"
      },
      "source": [
        "spread_col = clean_df['Mid-Career 90th Percentile Salary'] - clean_df['Mid-Career 10th Percentile Salary']"
      ],
      "execution_count": null,
      "outputs": []
    },
    {
      "cell_type": "code",
      "metadata": {
        "id": "JN7hRNxtUe6u"
      },
      "source": [
        "clean_df.insert(1, 'Spread', spread_col)  # 1st argument is position of column, pos 1 = second column"
      ],
      "execution_count": null,
      "outputs": []
    },
    {
      "cell_type": "code",
      "metadata": {
        "colab": {
          "base_uri": "https://localhost:8080/",
          "height": 254
        },
        "id": "7GRryT0tU00t",
        "outputId": "dd3fc22f-bd1b-4ff3-e45e-9b784a04fe30"
      },
      "source": [
        "clean_df.head()"
      ],
      "execution_count": null,
      "outputs": [
        {
          "output_type": "execute_result",
          "data": {
            "text/html": [
              "<div>\n",
              "<style scoped>\n",
              "    .dataframe tbody tr th:only-of-type {\n",
              "        vertical-align: middle;\n",
              "    }\n",
              "\n",
              "    .dataframe tbody tr th {\n",
              "        vertical-align: top;\n",
              "    }\n",
              "\n",
              "    .dataframe thead th {\n",
              "        text-align: right;\n",
              "    }\n",
              "</style>\n",
              "<table border=\"1\" class=\"dataframe\">\n",
              "  <thead>\n",
              "    <tr style=\"text-align: right;\">\n",
              "      <th></th>\n",
              "      <th>Undergraduate Major</th>\n",
              "      <th>Spread</th>\n",
              "      <th>Starting Median Salary</th>\n",
              "      <th>Mid-Career Median Salary</th>\n",
              "      <th>Mid-Career 10th Percentile Salary</th>\n",
              "      <th>Mid-Career 90th Percentile Salary</th>\n",
              "      <th>Group</th>\n",
              "    </tr>\n",
              "  </thead>\n",
              "  <tbody>\n",
              "    <tr>\n",
              "      <th>0</th>\n",
              "      <td>Accounting</td>\n",
              "      <td>109,800.00</td>\n",
              "      <td>46,000.00</td>\n",
              "      <td>77,100.00</td>\n",
              "      <td>42,200.00</td>\n",
              "      <td>152,000.00</td>\n",
              "      <td>Business</td>\n",
              "    </tr>\n",
              "    <tr>\n",
              "      <th>1</th>\n",
              "      <td>Aerospace Engineering</td>\n",
              "      <td>96,700.00</td>\n",
              "      <td>57,700.00</td>\n",
              "      <td>101,000.00</td>\n",
              "      <td>64,300.00</td>\n",
              "      <td>161,000.00</td>\n",
              "      <td>STEM</td>\n",
              "    </tr>\n",
              "    <tr>\n",
              "      <th>2</th>\n",
              "      <td>Agriculture</td>\n",
              "      <td>113,700.00</td>\n",
              "      <td>42,600.00</td>\n",
              "      <td>71,900.00</td>\n",
              "      <td>36,300.00</td>\n",
              "      <td>150,000.00</td>\n",
              "      <td>Business</td>\n",
              "    </tr>\n",
              "    <tr>\n",
              "      <th>3</th>\n",
              "      <td>Anthropology</td>\n",
              "      <td>104,200.00</td>\n",
              "      <td>36,800.00</td>\n",
              "      <td>61,500.00</td>\n",
              "      <td>33,800.00</td>\n",
              "      <td>138,000.00</td>\n",
              "      <td>HASS</td>\n",
              "    </tr>\n",
              "    <tr>\n",
              "      <th>4</th>\n",
              "      <td>Architecture</td>\n",
              "      <td>85,400.00</td>\n",
              "      <td>41,600.00</td>\n",
              "      <td>76,800.00</td>\n",
              "      <td>50,600.00</td>\n",
              "      <td>136,000.00</td>\n",
              "      <td>Business</td>\n",
              "    </tr>\n",
              "  </tbody>\n",
              "</table>\n",
              "</div>"
            ],
            "text/plain": [
              "     Undergraduate Major  ...     Group\n",
              "0             Accounting  ...  Business\n",
              "1  Aerospace Engineering  ...      STEM\n",
              "2            Agriculture  ...  Business\n",
              "3           Anthropology  ...      HASS\n",
              "4           Architecture  ...  Business\n",
              "\n",
              "[5 rows x 7 columns]"
            ]
          },
          "metadata": {
            "tags": []
          },
          "execution_count": 90
        }
      ]
    },
    {
      "cell_type": "markdown",
      "metadata": {
        "id": "S17qiKYYU50L"
      },
      "source": [
        "Sorting by the lowest spread"
      ]
    },
    {
      "cell_type": "code",
      "metadata": {
        "id": "kyhniGgjU4dJ"
      },
      "source": [
        "low_risk = clean_df.sort_values('Spread')"
      ],
      "execution_count": null,
      "outputs": []
    },
    {
      "cell_type": "code",
      "metadata": {
        "colab": {
          "base_uri": "https://localhost:8080/",
          "height": 202
        },
        "id": "MEE4IysUVDkF",
        "outputId": "5f0686a9-7957-4185-c86c-7e729f202a2f"
      },
      "source": [
        "low_risk[['Undergraduate Major', 'Spread']].head()  # print major and spread value for of sorted spreads (ascending order)"
      ],
      "execution_count": null,
      "outputs": [
        {
          "output_type": "execute_result",
          "data": {
            "text/html": [
              "<div>\n",
              "<style scoped>\n",
              "    .dataframe tbody tr th:only-of-type {\n",
              "        vertical-align: middle;\n",
              "    }\n",
              "\n",
              "    .dataframe tbody tr th {\n",
              "        vertical-align: top;\n",
              "    }\n",
              "\n",
              "    .dataframe thead th {\n",
              "        text-align: right;\n",
              "    }\n",
              "</style>\n",
              "<table border=\"1\" class=\"dataframe\">\n",
              "  <thead>\n",
              "    <tr style=\"text-align: right;\">\n",
              "      <th></th>\n",
              "      <th>Undergraduate Major</th>\n",
              "      <th>Spread</th>\n",
              "    </tr>\n",
              "  </thead>\n",
              "  <tbody>\n",
              "    <tr>\n",
              "      <th>40</th>\n",
              "      <td>Nursing</td>\n",
              "      <td>50,700.00</td>\n",
              "    </tr>\n",
              "    <tr>\n",
              "      <th>43</th>\n",
              "      <td>Physician Assistant</td>\n",
              "      <td>57,600.00</td>\n",
              "    </tr>\n",
              "    <tr>\n",
              "      <th>41</th>\n",
              "      <td>Nutrition</td>\n",
              "      <td>65,300.00</td>\n",
              "    </tr>\n",
              "    <tr>\n",
              "      <th>49</th>\n",
              "      <td>Spanish</td>\n",
              "      <td>65,400.00</td>\n",
              "    </tr>\n",
              "    <tr>\n",
              "      <th>27</th>\n",
              "      <td>Health Care Administration</td>\n",
              "      <td>66,400.00</td>\n",
              "    </tr>\n",
              "  </tbody>\n",
              "</table>\n",
              "</div>"
            ],
            "text/plain": [
              "           Undergraduate Major    Spread\n",
              "40                     Nursing 50,700.00\n",
              "43         Physician Assistant 57,600.00\n",
              "41                   Nutrition 65,300.00\n",
              "49                     Spanish 65,400.00\n",
              "27  Health Care Administration 66,400.00"
            ]
          },
          "metadata": {
            "tags": []
          },
          "execution_count": 92
        }
      ]
    },
    {
      "cell_type": "markdown",
      "metadata": {
        "id": "b_K34LRzVqZR"
      },
      "source": [
        "**Find degrees with the highest potential**\n",
        "\n",
        "Top 5 degrees with the highest values in the 90th percentile.\n"
      ]
    },
    {
      "cell_type": "code",
      "metadata": {
        "id": "ZdUKnYI9Vnod"
      },
      "source": [
        "high_potential = clean_df.sort_values('Mid-Career 90th Percentile Salary', ascending=False)"
      ],
      "execution_count": null,
      "outputs": []
    },
    {
      "cell_type": "code",
      "metadata": {
        "colab": {
          "base_uri": "https://localhost:8080/",
          "height": 202
        },
        "id": "814KtRV0WLTR",
        "outputId": "fa5ccff6-9ab0-4490-c4cc-24739d1b77a5"
      },
      "source": [
        "high_potential[['Undergraduate Major', 'Mid-Career 90th Percentile Salary']].head()"
      ],
      "execution_count": null,
      "outputs": [
        {
          "output_type": "execute_result",
          "data": {
            "text/html": [
              "<div>\n",
              "<style scoped>\n",
              "    .dataframe tbody tr th:only-of-type {\n",
              "        vertical-align: middle;\n",
              "    }\n",
              "\n",
              "    .dataframe tbody tr th {\n",
              "        vertical-align: top;\n",
              "    }\n",
              "\n",
              "    .dataframe thead th {\n",
              "        text-align: right;\n",
              "    }\n",
              "</style>\n",
              "<table border=\"1\" class=\"dataframe\">\n",
              "  <thead>\n",
              "    <tr style=\"text-align: right;\">\n",
              "      <th></th>\n",
              "      <th>Undergraduate Major</th>\n",
              "      <th>Mid-Career 90th Percentile Salary</th>\n",
              "    </tr>\n",
              "  </thead>\n",
              "  <tbody>\n",
              "    <tr>\n",
              "      <th>17</th>\n",
              "      <td>Economics</td>\n",
              "      <td>210,000.00</td>\n",
              "    </tr>\n",
              "    <tr>\n",
              "      <th>22</th>\n",
              "      <td>Finance</td>\n",
              "      <td>195,000.00</td>\n",
              "    </tr>\n",
              "    <tr>\n",
              "      <th>8</th>\n",
              "      <td>Chemical Engineering</td>\n",
              "      <td>194,000.00</td>\n",
              "    </tr>\n",
              "    <tr>\n",
              "      <th>37</th>\n",
              "      <td>Math</td>\n",
              "      <td>183,000.00</td>\n",
              "    </tr>\n",
              "    <tr>\n",
              "      <th>44</th>\n",
              "      <td>Physics</td>\n",
              "      <td>178,000.00</td>\n",
              "    </tr>\n",
              "  </tbody>\n",
              "</table>\n",
              "</div>"
            ],
            "text/plain": [
              "     Undergraduate Major  Mid-Career 90th Percentile Salary\n",
              "17             Economics                         210,000.00\n",
              "22               Finance                         195,000.00\n",
              "8   Chemical Engineering                         194,000.00\n",
              "37                  Math                         183,000.00\n",
              "44               Physics                         178,000.00"
            ]
          },
          "metadata": {
            "tags": []
          },
          "execution_count": 94
        }
      ]
    },
    {
      "cell_type": "markdown",
      "metadata": {
        "id": "yYqgJtlPWgr9"
      },
      "source": [
        "**Degrees with the biggest spread in salaries**"
      ]
    },
    {
      "cell_type": "code",
      "metadata": {
        "id": "ih2xqnOuW9Xx"
      },
      "source": [
        "high_risk = clean_df.sort_values('Spread', ascending=False)"
      ],
      "execution_count": null,
      "outputs": []
    },
    {
      "cell_type": "code",
      "metadata": {
        "colab": {
          "base_uri": "https://localhost:8080/",
          "height": 202
        },
        "id": "wiO9JMyXXDQf",
        "outputId": "9adb6af8-1e91-42e6-c361-f15bf9966d22"
      },
      "source": [
        "high_risk[['Undergraduate Major', 'Spread']].head()"
      ],
      "execution_count": null,
      "outputs": [
        {
          "output_type": "execute_result",
          "data": {
            "text/html": [
              "<div>\n",
              "<style scoped>\n",
              "    .dataframe tbody tr th:only-of-type {\n",
              "        vertical-align: middle;\n",
              "    }\n",
              "\n",
              "    .dataframe tbody tr th {\n",
              "        vertical-align: top;\n",
              "    }\n",
              "\n",
              "    .dataframe thead th {\n",
              "        text-align: right;\n",
              "    }\n",
              "</style>\n",
              "<table border=\"1\" class=\"dataframe\">\n",
              "  <thead>\n",
              "    <tr style=\"text-align: right;\">\n",
              "      <th></th>\n",
              "      <th>Undergraduate Major</th>\n",
              "      <th>Spread</th>\n",
              "    </tr>\n",
              "  </thead>\n",
              "  <tbody>\n",
              "    <tr>\n",
              "      <th>17</th>\n",
              "      <td>Economics</td>\n",
              "      <td>159,400.00</td>\n",
              "    </tr>\n",
              "    <tr>\n",
              "      <th>22</th>\n",
              "      <td>Finance</td>\n",
              "      <td>147,800.00</td>\n",
              "    </tr>\n",
              "    <tr>\n",
              "      <th>37</th>\n",
              "      <td>Math</td>\n",
              "      <td>137,800.00</td>\n",
              "    </tr>\n",
              "    <tr>\n",
              "      <th>36</th>\n",
              "      <td>Marketing</td>\n",
              "      <td>132,900.00</td>\n",
              "    </tr>\n",
              "    <tr>\n",
              "      <th>42</th>\n",
              "      <td>Philosophy</td>\n",
              "      <td>132,500.00</td>\n",
              "    </tr>\n",
              "  </tbody>\n",
              "</table>\n",
              "</div>"
            ],
            "text/plain": [
              "   Undergraduate Major     Spread\n",
              "17           Economics 159,400.00\n",
              "22             Finance 147,800.00\n",
              "37                Math 137,800.00\n",
              "36           Marketing 132,900.00\n",
              "42          Philosophy 132,500.00"
            ]
          },
          "metadata": {
            "tags": []
          },
          "execution_count": 96
        }
      ]
    },
    {
      "cell_type": "markdown",
      "metadata": {
        "id": "gtUlP8pzXiXU"
      },
      "source": [
        "**Grouping by degree category: STEM, Business, HASS (Humanities, Arts and Social Science)**"
      ]
    },
    {
      "cell_type": "markdown",
      "metadata": {
        "id": "kHrMIdCdXxPG"
      },
      "source": [
        "Count the number of majors in each category"
      ]
    },
    {
      "cell_type": "code",
      "metadata": {
        "colab": {
          "base_uri": "https://localhost:8080/",
          "height": 189
        },
        "id": "iNo9KmeeXrhi",
        "outputId": "a8075ffa-3bbd-402e-8ff8-117d5d713e71"
      },
      "source": [
        "clean_df.groupby('Group').count()"
      ],
      "execution_count": null,
      "outputs": [
        {
          "output_type": "execute_result",
          "data": {
            "text/html": [
              "<div>\n",
              "<style scoped>\n",
              "    .dataframe tbody tr th:only-of-type {\n",
              "        vertical-align: middle;\n",
              "    }\n",
              "\n",
              "    .dataframe tbody tr th {\n",
              "        vertical-align: top;\n",
              "    }\n",
              "\n",
              "    .dataframe thead th {\n",
              "        text-align: right;\n",
              "    }\n",
              "</style>\n",
              "<table border=\"1\" class=\"dataframe\">\n",
              "  <thead>\n",
              "    <tr style=\"text-align: right;\">\n",
              "      <th></th>\n",
              "      <th>Undergraduate Major</th>\n",
              "      <th>Spread</th>\n",
              "      <th>Starting Median Salary</th>\n",
              "      <th>Mid-Career Median Salary</th>\n",
              "      <th>Mid-Career 10th Percentile Salary</th>\n",
              "      <th>Mid-Career 90th Percentile Salary</th>\n",
              "    </tr>\n",
              "    <tr>\n",
              "      <th>Group</th>\n",
              "      <th></th>\n",
              "      <th></th>\n",
              "      <th></th>\n",
              "      <th></th>\n",
              "      <th></th>\n",
              "      <th></th>\n",
              "    </tr>\n",
              "  </thead>\n",
              "  <tbody>\n",
              "    <tr>\n",
              "      <th>Business</th>\n",
              "      <td>12</td>\n",
              "      <td>12</td>\n",
              "      <td>12</td>\n",
              "      <td>12</td>\n",
              "      <td>12</td>\n",
              "      <td>12</td>\n",
              "    </tr>\n",
              "    <tr>\n",
              "      <th>HASS</th>\n",
              "      <td>22</td>\n",
              "      <td>22</td>\n",
              "      <td>22</td>\n",
              "      <td>22</td>\n",
              "      <td>22</td>\n",
              "      <td>22</td>\n",
              "    </tr>\n",
              "    <tr>\n",
              "      <th>STEM</th>\n",
              "      <td>16</td>\n",
              "      <td>16</td>\n",
              "      <td>16</td>\n",
              "      <td>16</td>\n",
              "      <td>16</td>\n",
              "      <td>16</td>\n",
              "    </tr>\n",
              "  </tbody>\n",
              "</table>\n",
              "</div>"
            ],
            "text/plain": [
              "          Undergraduate Major  ...  Mid-Career 90th Percentile Salary\n",
              "Group                          ...                                   \n",
              "Business                   12  ...                                 12\n",
              "HASS                       22  ...                                 22\n",
              "STEM                       16  ...                                 16\n",
              "\n",
              "[3 rows x 6 columns]"
            ]
          },
          "metadata": {
            "tags": []
          },
          "execution_count": 97
        }
      ]
    },
    {
      "cell_type": "markdown",
      "metadata": {
        "id": "ekct7z21Y2MD"
      },
      "source": [
        "Average salary by group"
      ]
    },
    {
      "cell_type": "code",
      "metadata": {
        "colab": {
          "base_uri": "https://localhost:8080/",
          "height": 189
        },
        "id": "rR9ViFb_Y4Cq",
        "outputId": "825b7050-1d89-46ac-aa3f-9e182268cef4"
      },
      "source": [
        "clean_df.groupby('Group').mean()"
      ],
      "execution_count": null,
      "outputs": [
        {
          "output_type": "execute_result",
          "data": {
            "text/html": [
              "<div>\n",
              "<style scoped>\n",
              "    .dataframe tbody tr th:only-of-type {\n",
              "        vertical-align: middle;\n",
              "    }\n",
              "\n",
              "    .dataframe tbody tr th {\n",
              "        vertical-align: top;\n",
              "    }\n",
              "\n",
              "    .dataframe thead th {\n",
              "        text-align: right;\n",
              "    }\n",
              "</style>\n",
              "<table border=\"1\" class=\"dataframe\">\n",
              "  <thead>\n",
              "    <tr style=\"text-align: right;\">\n",
              "      <th></th>\n",
              "      <th>Spread</th>\n",
              "      <th>Starting Median Salary</th>\n",
              "      <th>Mid-Career Median Salary</th>\n",
              "      <th>Mid-Career 10th Percentile Salary</th>\n",
              "      <th>Mid-Career 90th Percentile Salary</th>\n",
              "    </tr>\n",
              "    <tr>\n",
              "      <th>Group</th>\n",
              "      <th></th>\n",
              "      <th></th>\n",
              "      <th></th>\n",
              "      <th></th>\n",
              "      <th></th>\n",
              "    </tr>\n",
              "  </thead>\n",
              "  <tbody>\n",
              "    <tr>\n",
              "      <th>Business</th>\n",
              "      <td>103,958.33</td>\n",
              "      <td>44,633.33</td>\n",
              "      <td>75,083.33</td>\n",
              "      <td>43,566.67</td>\n",
              "      <td>147,525.00</td>\n",
              "    </tr>\n",
              "    <tr>\n",
              "      <th>HASS</th>\n",
              "      <td>95,218.18</td>\n",
              "      <td>37,186.36</td>\n",
              "      <td>62,968.18</td>\n",
              "      <td>34,145.45</td>\n",
              "      <td>129,363.64</td>\n",
              "    </tr>\n",
              "    <tr>\n",
              "      <th>STEM</th>\n",
              "      <td>101,600.00</td>\n",
              "      <td>53,862.50</td>\n",
              "      <td>90,812.50</td>\n",
              "      <td>56,025.00</td>\n",
              "      <td>157,625.00</td>\n",
              "    </tr>\n",
              "  </tbody>\n",
              "</table>\n",
              "</div>"
            ],
            "text/plain": [
              "             Spread  ...  Mid-Career 90th Percentile Salary\n",
              "Group                ...                                   \n",
              "Business 103,958.33  ...                         147,525.00\n",
              "HASS      95,218.18  ...                         129,363.64\n",
              "STEM     101,600.00  ...                         157,625.00\n",
              "\n",
              "[3 rows x 5 columns]"
            ]
          },
          "metadata": {
            "tags": []
          },
          "execution_count": 98
        }
      ]
    },
    {
      "cell_type": "markdown",
      "metadata": {
        "id": "-rs4bfRacdGt"
      },
      "source": [
        "**Web scraping PayScale's website for more recent data**"
      ]
    },
    {
      "cell_type": "code",
      "metadata": {
        "id": "2CzJZLSFciSl"
      },
      "source": [
        "import requests"
      ],
      "execution_count": null,
      "outputs": []
    },
    {
      "cell_type": "code",
      "metadata": {
        "id": "JSQQpeeXc4cm"
      },
      "source": [
        "from bs4 import BeautifulSoup"
      ],
      "execution_count": null,
      "outputs": []
    },
    {
      "cell_type": "code",
      "metadata": {
        "id": "iDRk73I5eMQn"
      },
      "source": [
        "records = []\n",
        "\n",
        "for current_page in range(34):\n",
        "  endpoint = f\"https://www.payscale.com/college-salary-report/majors-that-pay-you-back/bachelors/page/{current_page + 1}\"\n",
        "  response = requests.get(endpoint)\n",
        "  soup = BeautifulSoup(response.text, \"html.parser\")\n",
        "\n",
        "  rows = soup.select(\"table.data-table tbody tr\")\n",
        "  for row in rows:\n",
        "    cells = row.select(\"span.data-table__value\")\n",
        "    record = {\n",
        "        \"Undergraduate Major\": cells[1].getText(),\n",
        "        \"Starting Median Salary\": float(cells[3].getText().strip(\"$\").replace(\",\", \"\")),\n",
        "        \"Mid-Career Median Salary\": float(cells[4].getText().strip(\"$\").replace(\",\", \"\")),\n",
        "    }\n",
        "    records.append(record)\n",
        "\n",
        "pd.DataFrame(records).to_csv(\"salaries_by_college_major_updated.csv\", index=False)\n"
      ],
      "execution_count": null,
      "outputs": []
    },
    {
      "cell_type": "markdown",
      "metadata": {
        "id": "6x5VPoTtg1MY"
      },
      "source": [
        "Analysing the new data"
      ]
    },
    {
      "cell_type": "code",
      "metadata": {
        "id": "UU_OJop_eHFj"
      },
      "source": [
        "new_df = pd.read_csv(\"salaries_by_college_major_updated.csv\")"
      ],
      "execution_count": null,
      "outputs": []
    },
    {
      "cell_type": "code",
      "metadata": {
        "colab": {
          "base_uri": "https://localhost:8080/",
          "height": 202
        },
        "id": "04CeEWPdhg8f",
        "outputId": "15308010-f790-4164-db85-a7660e820bd2"
      },
      "source": [
        "new_df.head()"
      ],
      "execution_count": null,
      "outputs": [
        {
          "output_type": "execute_result",
          "data": {
            "text/html": [
              "<div>\n",
              "<style scoped>\n",
              "    .dataframe tbody tr th:only-of-type {\n",
              "        vertical-align: middle;\n",
              "    }\n",
              "\n",
              "    .dataframe tbody tr th {\n",
              "        vertical-align: top;\n",
              "    }\n",
              "\n",
              "    .dataframe thead th {\n",
              "        text-align: right;\n",
              "    }\n",
              "</style>\n",
              "<table border=\"1\" class=\"dataframe\">\n",
              "  <thead>\n",
              "    <tr style=\"text-align: right;\">\n",
              "      <th></th>\n",
              "      <th>Undergraduate Major</th>\n",
              "      <th>Starting Median Salary</th>\n",
              "      <th>Mid-Career Median Salary</th>\n",
              "    </tr>\n",
              "  </thead>\n",
              "  <tbody>\n",
              "    <tr>\n",
              "      <th>0</th>\n",
              "      <td>Petroleum Engineering</td>\n",
              "      <td>92,300.00</td>\n",
              "      <td>182,000.00</td>\n",
              "    </tr>\n",
              "    <tr>\n",
              "      <th>1</th>\n",
              "      <td>Electrical Engineering &amp; Computer Science (EECS)</td>\n",
              "      <td>101,200.00</td>\n",
              "      <td>152,300.00</td>\n",
              "    </tr>\n",
              "    <tr>\n",
              "      <th>2</th>\n",
              "      <td>Applied Economics and Management</td>\n",
              "      <td>60,900.00</td>\n",
              "      <td>139,600.00</td>\n",
              "    </tr>\n",
              "    <tr>\n",
              "      <th>3</th>\n",
              "      <td>Operations Research</td>\n",
              "      <td>78,400.00</td>\n",
              "      <td>139,600.00</td>\n",
              "    </tr>\n",
              "    <tr>\n",
              "      <th>4</th>\n",
              "      <td>Public Accounting</td>\n",
              "      <td>60,000.00</td>\n",
              "      <td>138,800.00</td>\n",
              "    </tr>\n",
              "  </tbody>\n",
              "</table>\n",
              "</div>"
            ],
            "text/plain": [
              "                                Undergraduate Major  ...  Mid-Career Median Salary\n",
              "0                             Petroleum Engineering  ...                182,000.00\n",
              "1  Electrical Engineering & Computer Science (EECS)  ...                152,300.00\n",
              "2                  Applied Economics and Management  ...                139,600.00\n",
              "3                               Operations Research  ...                139,600.00\n",
              "4                                 Public Accounting  ...                138,800.00\n",
              "\n",
              "[5 rows x 3 columns]"
            ]
          },
          "metadata": {
            "tags": []
          },
          "execution_count": 110
        }
      ]
    },
    {
      "cell_type": "code",
      "metadata": {
        "colab": {
          "base_uri": "https://localhost:8080/"
        },
        "id": "HHR88FrthhEi",
        "outputId": "0dd802e2-926d-47e8-cab3-3939ec037386"
      },
      "source": [
        "new_df.shape"
      ],
      "execution_count": null,
      "outputs": [
        {
          "output_type": "execute_result",
          "data": {
            "text/plain": [
              "(834, 3)"
            ]
          },
          "metadata": {
            "tags": []
          },
          "execution_count": 111
        }
      ]
    },
    {
      "cell_type": "code",
      "metadata": {
        "colab": {
          "base_uri": "https://localhost:8080/",
          "height": 202
        },
        "id": "AGDYGJPEhhHd",
        "outputId": "966951b8-1229-4e12-fa2d-2034260b5b8d"
      },
      "source": [
        "new_df.tail()"
      ],
      "execution_count": null,
      "outputs": [
        {
          "output_type": "execute_result",
          "data": {
            "text/html": [
              "<div>\n",
              "<style scoped>\n",
              "    .dataframe tbody tr th:only-of-type {\n",
              "        vertical-align: middle;\n",
              "    }\n",
              "\n",
              "    .dataframe tbody tr th {\n",
              "        vertical-align: top;\n",
              "    }\n",
              "\n",
              "    .dataframe thead th {\n",
              "        text-align: right;\n",
              "    }\n",
              "</style>\n",
              "<table border=\"1\" class=\"dataframe\">\n",
              "  <thead>\n",
              "    <tr style=\"text-align: right;\">\n",
              "      <th></th>\n",
              "      <th>Undergraduate Major</th>\n",
              "      <th>Starting Median Salary</th>\n",
              "      <th>Mid-Career Median Salary</th>\n",
              "    </tr>\n",
              "  </thead>\n",
              "  <tbody>\n",
              "    <tr>\n",
              "      <th>829</th>\n",
              "      <td>Early Childhood Education</td>\n",
              "      <td>34,100.00</td>\n",
              "      <td>43,300.00</td>\n",
              "    </tr>\n",
              "    <tr>\n",
              "      <th>830</th>\n",
              "      <td>Mental Health</td>\n",
              "      <td>35,200.00</td>\n",
              "      <td>42,500.00</td>\n",
              "    </tr>\n",
              "    <tr>\n",
              "      <th>831</th>\n",
              "      <td>Medical Assisting</td>\n",
              "      <td>35,100.00</td>\n",
              "      <td>42,300.00</td>\n",
              "    </tr>\n",
              "    <tr>\n",
              "      <th>832</th>\n",
              "      <td>Addictions Counseling</td>\n",
              "      <td>38,800.00</td>\n",
              "      <td>42,200.00</td>\n",
              "    </tr>\n",
              "    <tr>\n",
              "      <th>833</th>\n",
              "      <td>Metalsmithing</td>\n",
              "      <td>38,300.00</td>\n",
              "      <td>38,400.00</td>\n",
              "    </tr>\n",
              "  </tbody>\n",
              "</table>\n",
              "</div>"
            ],
            "text/plain": [
              "           Undergraduate Major  ...  Mid-Career Median Salary\n",
              "829  Early Childhood Education  ...                 43,300.00\n",
              "830              Mental Health  ...                 42,500.00\n",
              "831          Medical Assisting  ...                 42,300.00\n",
              "832      Addictions Counseling  ...                 42,200.00\n",
              "833              Metalsmithing  ...                 38,400.00\n",
              "\n",
              "[5 rows x 3 columns]"
            ]
          },
          "metadata": {
            "tags": []
          },
          "execution_count": 113
        }
      ]
    },
    {
      "cell_type": "code",
      "metadata": {
        "id": "dP2p6rIBhyaB"
      },
      "source": [
        "new_df.isna()  # no NaN values this time, no need to clean"
      ],
      "execution_count": null,
      "outputs": []
    },
    {
      "cell_type": "markdown",
      "metadata": {
        "id": "twTJ81xpiKvw"
      },
      "source": [
        "**Highest starting salary**"
      ]
    },
    {
      "cell_type": "code",
      "metadata": {
        "colab": {
          "base_uri": "https://localhost:8080/"
        },
        "id": "J9xaIVQYiIX2",
        "outputId": "fd302795-2209-4787-a82f-03378eb9dbd5"
      },
      "source": [
        "new_df['Starting Median Salary'].max()"
      ],
      "execution_count": null,
      "outputs": [
        {
          "output_type": "execute_result",
          "data": {
            "text/plain": [
              "101200.0"
            ]
          },
          "metadata": {
            "tags": []
          },
          "execution_count": 119
        }
      ]
    },
    {
      "cell_type": "code",
      "metadata": {
        "colab": {
          "base_uri": "https://localhost:8080/"
        },
        "id": "BlDsGQMSif6n",
        "outputId": "7dacd744-071a-48cc-b2d7-a3490646eae0"
      },
      "source": [
        "new_df.loc[new_df['Starting Median Salary'].idxmax()]"
      ],
      "execution_count": null,
      "outputs": [
        {
          "output_type": "execute_result",
          "data": {
            "text/plain": [
              "Undergraduate Major         Electrical Engineering & Computer Science (EECS)\n",
              "Starting Median Salary                                            101,200.00\n",
              "Mid-Career Median Salary                                          152,300.00\n",
              "Name: 1, dtype: object"
            ]
          },
          "metadata": {
            "tags": []
          },
          "execution_count": 120
        }
      ]
    },
    {
      "cell_type": "markdown",
      "metadata": {
        "id": "V0pszmiPioyw"
      },
      "source": [
        "**Highest mid-career salary**"
      ]
    },
    {
      "cell_type": "code",
      "metadata": {
        "colab": {
          "base_uri": "https://localhost:8080/"
        },
        "id": "GpRmWirNir2p",
        "outputId": "6321af80-f617-47d2-c4c7-284d5ccae1dc"
      },
      "source": [
        "new_df['Mid-Career Median Salary'].max()"
      ],
      "execution_count": null,
      "outputs": [
        {
          "output_type": "execute_result",
          "data": {
            "text/plain": [
              "182000.0"
            ]
          },
          "metadata": {
            "tags": []
          },
          "execution_count": 121
        }
      ]
    },
    {
      "cell_type": "code",
      "metadata": {
        "colab": {
          "base_uri": "https://localhost:8080/"
        },
        "id": "Tc6Ph4z9iw3r",
        "outputId": "93e8ddc0-1b9b-41bd-94a3-26dbd2e09825"
      },
      "source": [
        "new_df.loc[new_df['Mid-Career Median Salary'].idxmax()]"
      ],
      "execution_count": null,
      "outputs": [
        {
          "output_type": "execute_result",
          "data": {
            "text/plain": [
              "Undergraduate Major         Petroleum Engineering\n",
              "Starting Median Salary                  92,300.00\n",
              "Mid-Career Median Salary               182,000.00\n",
              "Name: 0, dtype: object"
            ]
          },
          "metadata": {
            "tags": []
          },
          "execution_count": 122
        }
      ]
    },
    {
      "cell_type": "markdown",
      "metadata": {
        "id": "yEf-hJppi333"
      },
      "source": [
        "**Lowest starting salary**"
      ]
    },
    {
      "cell_type": "code",
      "metadata": {
        "colab": {
          "base_uri": "https://localhost:8080/"
        },
        "id": "RzfAlXBwi6ro",
        "outputId": "9954ea6d-cec5-4c91-c4c6-5261b2158805"
      },
      "source": [
        "new_df['Starting Median Salary'].min()"
      ],
      "execution_count": null,
      "outputs": [
        {
          "output_type": "execute_result",
          "data": {
            "text/plain": [
              "31000.0"
            ]
          },
          "metadata": {
            "tags": []
          },
          "execution_count": 123
        }
      ]
    },
    {
      "cell_type": "code",
      "metadata": {
        "colab": {
          "base_uri": "https://localhost:8080/"
        },
        "id": "7em2Qgjdi9lq",
        "outputId": "18d9a199-4df3-478a-d13d-9de138e65025"
      },
      "source": [
        "new_df.loc[new_df['Starting Median Salary'].idxmin()]"
      ],
      "execution_count": null,
      "outputs": [
        {
          "output_type": "execute_result",
          "data": {
            "text/plain": [
              "Undergraduate Major         Developmental Psychology\n",
              "Starting Median Salary                     31,000.00\n",
              "Mid-Career Median Salary                   62,000.00\n",
              "Name: 707, dtype: object"
            ]
          },
          "metadata": {
            "tags": []
          },
          "execution_count": 124
        }
      ]
    },
    {
      "cell_type": "markdown",
      "metadata": {
        "id": "7sowiE9FjFAd"
      },
      "source": [
        "**Lowest mid-career salary**"
      ]
    },
    {
      "cell_type": "code",
      "metadata": {
        "colab": {
          "base_uri": "https://localhost:8080/"
        },
        "id": "LJeXfOHOjEta",
        "outputId": "b9cfc2f5-0b3a-43a2-b9c8-2dd9ad6752ce"
      },
      "source": [
        "new_df['Mid-Career Median Salary'].min()"
      ],
      "execution_count": null,
      "outputs": [
        {
          "output_type": "execute_result",
          "data": {
            "text/plain": [
              "38400.0"
            ]
          },
          "metadata": {
            "tags": []
          },
          "execution_count": 125
        }
      ]
    },
    {
      "cell_type": "code",
      "metadata": {
        "colab": {
          "base_uri": "https://localhost:8080/"
        },
        "id": "7dVsgXpxjLEk",
        "outputId": "0a2a6f8d-6f5f-4c0e-fe5b-7c293ed4ec3d"
      },
      "source": [
        "new_df.loc[new_df['Mid-Career Median Salary'].idxmin()]"
      ],
      "execution_count": null,
      "outputs": [
        {
          "output_type": "execute_result",
          "data": {
            "text/plain": [
              "Undergraduate Major         Metalsmithing\n",
              "Starting Median Salary          38,300.00\n",
              "Mid-Career Median Salary        38,400.00\n",
              "Name: 833, dtype: object"
            ]
          },
          "metadata": {
            "tags": []
          },
          "execution_count": 126
        }
      ]
    }
  ]
}